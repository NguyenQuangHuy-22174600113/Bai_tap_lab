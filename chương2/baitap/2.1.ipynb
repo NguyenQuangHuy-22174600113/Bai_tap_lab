{
 "cells": [
  {
   "cell_type": "code",
   "execution_count": null,
   "metadata": {},
   "outputs": [],
   "source": [
    "import xml.etree.ElementTree as ET\n",
    "\n",
    "# Tạo root element của tài liệu XML\n",
    "company = ET.Element('company')\n",
    "\n",
    "# Tạo các child element và thêm vào root element\n",
    "director = ET.SubElement(company, 'Director_name')\n",
    "director.text = 'Tên giám đốc'\n",
    "\n",
    "address = ET.SubElement(company, 'Address')\n",
    "address.text = 'Địa chỉ công ty'\n",
    "\n",
    "phone = ET.SubElement(company, 'Phone')\n",
    "phone.text = 'Số điện thoại công ty'\n",
    "\n",
    "tax_code = ET.SubElement(company, 'Tax_code')\n",
    "tax_code.text = 'Mã số thuế công ty'\n",
    "\n",
    "# Tạo cây XML từ root element\n",
    "tree = ET.ElementTree(company)\n",
    "\n",
    "# Ghi cây XML vào tệp\n",
    "tree.write('company.xml')\n"
   ]
  }
 ],
 "metadata": {
  "language_info": {
   "name": "python"
  }
 },
 "nbformat": 4,
 "nbformat_minor": 2
}
