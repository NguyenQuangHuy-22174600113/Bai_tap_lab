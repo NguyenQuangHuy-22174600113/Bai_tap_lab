{
 "cells": [
  {
   "cell_type": "code",
   "execution_count": 1,
   "metadata": {},
   "outputs": [
    {
     "name": "stdout",
     "output_type": "stream",
     "text": [
      "Staff ID: 1\n",
      "Name: Amar Pandey\n",
      "Salary: 8.5 LPA\n",
      "Staff ID: 2\n",
      "Name: Akbhar Khan\n",
      "Salary: 6.5 LPA\n",
      "Staff ID: 3\n",
      "Name: Anthony Walter\n",
      "Salary: 3.2 LPA\n"
     ]
    },
    {
     "name": "stderr",
     "output_type": "stream",
     "text": [
      "usage: python -m ast [-h] [-m {exec,single,eval,func_type}]\n",
      "                     [--no-type-comments] [-a] [-i INDENT]\n",
      "                     [infile]\n",
      "python -m ast: error: unrecognized arguments: --ip=127.0.0.1 --stdin=9003 --control=9001 --hb=9000 --Session.signature_scheme=\"hmac-sha256\" --Session.key=b\"856ea491-3e12-4142-b3bd-a21790efc320\" --shell=9002 --transport=\"tcp\" --iopub=9004 --f=c:\\Users\\ADMIN\\AppData\\Roaming\\jupyter\\runtime\\kernel-v2-13156JEXPIjTGfNVa.json\n"
     ]
    },
    {
     "ename": "SystemExit",
     "evalue": "2",
     "output_type": "error",
     "traceback": [
      "An exception has occurred, use %tb to see the full traceback.\n",
      "\u001b[1;31mSystemExit\u001b[0m\u001b[1;31m:\u001b[0m 2\n"
     ]
    },
    {
     "name": "stderr",
     "output_type": "stream",
     "text": [
      "C:\\Users\\ADMIN\\AppData\\Local\\Packages\\PythonSoftwareFoundation.Python.3.11_qbz5n2kfra8p0\\LocalCache\\local-packages\\Python311\\site-packages\\IPython\\core\\interactiveshell.py:3534: UserWarning: To exit: use 'exit', 'quit', or Ctrl-D.\n",
      "  warn(\"To exit: use 'exit', 'quit', or Ctrl-D.\", stacklevel=1)\n"
     ]
    }
   ],
   "source": [
    "from ast import main\n",
    "from xml.dom.minidom import parse\n",
    "\n",
    "dom = parse(\"E:\\\\chương2\\\\baitap\\sample.xml\")\n",
    "\n",
    "company = dom.documentElement\n",
    "\n",
    "staffs = company.getElementsByTagName(\"staff\")\n",
    "\n",
    "for staff in staffs:\n",
    "    staff_id = staff.getAttribute(\"id\")\n",
    "    print(f\"Staff ID: {staff_id}\")\n",
    "\n",
    "    name = staff.getElementsByTagName(\"name\")[0]\n",
    "    print(f\"Name: {name.firstChild.data}\")\n",
    "\n",
    "    salary = staff.getElementsByTagName(\"salary\")[0]\n",
    "    print(f\"Salary: {salary.firstChild.data}\")\n",
    "\n",
    "if __name__==\"__main__\":\n",
    "    main()"
   ]
  }
 ],
 "metadata": {
  "kernelspec": {
   "display_name": "Python 3",
   "language": "python",
   "name": "python3"
  },
  "language_info": {
   "codemirror_mode": {
    "name": "ipython",
    "version": 3
   },
   "file_extension": ".py",
   "mimetype": "text/x-python",
   "name": "python",
   "nbconvert_exporter": "python",
   "pygments_lexer": "ipython3",
   "version": "3.11.6"
  }
 },
 "nbformat": 4,
 "nbformat_minor": 2
}
