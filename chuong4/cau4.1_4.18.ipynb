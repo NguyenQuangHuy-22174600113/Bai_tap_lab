{
 "cells": [
  {
   "cell_type": "code",
   "execution_count": null,
   "metadata": {},
   "outputs": [],
   "source": [
    "import pandas as pd\n",
    "import numpy as np\n",
    "\n",
    "mylist = list('abcdefghjklqwertyuiop')\n",
    "\n",
    "myarr = np.arange(26)\n",
    "\n",
    "mydict = dict(zip(mylist, myarr))\n",
    "\n",
    "PandaList = pd.Series(mylist)\n",
    "\n",
    "PandaArr = pd.Series(myarr)\n",
    "\n",
    "pandaDict = pd.Series(mydict)\n",
    "\n",
    "print(PandaList)\n",
    "print(PandaArr)\n",
    "print(pandaDict)"
   ]
  },
  {
   "cell_type": "code",
   "execution_count": null,
   "metadata": {},
   "outputs": [],
   "source": [
    "import pandas as pd\n",
    "import numpy as np\n",
    "\n",
    "mylist = list('abcdefghjklqwertyuiop')\n",
    "\n",
    "myarr = np.arange(26)\n",
    "\n",
    "mydict = dict(zip(mylist, myarr))\n",
    "\n",
    "ser = pd.Series(mylist)\n",
    "\n",
    "Dataframes = pd.DataFrame({'ser':ser})\n",
    "\n",
    "print(Dataframes)"
   ]
  },
  {
   "cell_type": "code",
   "execution_count": null,
   "metadata": {},
   "outputs": [],
   "source": [
    "import pandas as pd\n",
    "import numpy as np\n",
    "\n",
    "ser1 = pd.Series(list('abcdefghjklqwertyuiop'))\n",
    "\n",
    "ser2 = pd.Series(np.arange(26))\n",
    "\n",
    "Dataframes = pd.concat([ser1, ser2], axis=1)\n",
    "\n",
    "print(Dataframes)"
   ]
  },
  {
   "cell_type": "code",
   "execution_count": null,
   "metadata": {},
   "outputs": [],
   "source": [
    "import numpy as np\n",
    "import pandas as pd\n",
    "\n",
    "ser1 = pd.Series([1,2,3,4,5])\n",
    "ser2 = pd.Series([4,5,6,7,8])\n",
    "\n",
    "ser3 = ser1[~ser1.isin(ser2)]\n",
    "\n",
    "print(ser3)"
   ]
  },
  {
   "cell_type": "code",
   "execution_count": null,
   "metadata": {},
   "outputs": [],
   "source": [
    "import numpy as np\n",
    "\n",
    "ser = np.random.random(20)\n",
    "\n",
    "deciles = np.arange(10) + 1\n",
    "decile_inds = np.digit(deciles // 10)\n",
    "ser_decrements = ser[decile_inds]\n",
    "\n",
    "print(ser_decrements)\n"
   ]
  },
  {
   "cell_type": "code",
   "execution_count": null,
   "metadata": {},
   "outputs": [],
   "source": [
    "import pandas as pd\n",
    "\n",
    "# Read the emails from the image\n",
    "emails = pd.Series(['buying ER', 'narendra@modi.com'])\n",
    "\n",
    "# Define a pattern to filter out non-email addresses\n",
    "pattern = \"[A-Za-z0-9._%+-]\"\n",
    "\n",
    "# Filter out non-email addresses\n",
    "filtered_emails = emails[pom.str.match(pattern)]\n",
    "\n",
    "# Print the filtered email addresses\n",
    "print(filtered_emails)\n"
   ]
  },
  {
   "cell_type": "code",
   "execution_count": null,
   "metadata": {},
   "outputs": [],
   "source": [
    "import pandas as pd\n",
    "\n",
    "image_data = pd.read_csv(\"image.png\", usecols=[\"date-strings\"])\n",
    "\n",
    "image_data[\"date\"] = pd.to_datetime(image_data[\"date-strings\"])\n",
    "\n",
    "image_data = image_data.resample(\"D\").mean()\n",
    "\n",
    "image_data.plot()\n"
   ]
  }
 ],
 "metadata": {
  "kernelspec": {
   "display_name": "Python 3",
   "language": "python",
   "name": "python3"
  },
  "language_info": {
   "codemirror_mode": {
    "name": "ipython",
    "version": 3
   },
   "file_extension": ".py",
   "mimetype": "text/x-python",
   "name": "python",
   "nbconvert_exporter": "python",
   "pygments_lexer": "ipython3",
   "version": "3.11.7"
  }
 },
 "nbformat": 4,
 "nbformat_minor": 2
}
