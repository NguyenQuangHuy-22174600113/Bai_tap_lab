{
 "cells": [
  {
   "cell_type": "code",
   "execution_count": 1,
   "metadata": {},
   "outputs": [
    {
     "name": "stdout",
     "output_type": "stream",
     "text": [
      "1.26.1\n",
      "<module 'numpy.__config__' from 'C:\\\\Users\\\\ADMIN\\\\AppData\\\\Local\\\\Packages\\\\PythonSoftwareFoundation.Python.3.11_qbz5n2kfra8p0\\\\LocalCache\\\\local-packages\\\\Python311\\\\site-packages\\\\numpy\\\\__config__.py'>\n"
     ]
    }
   ],
   "source": [
    "import numpy as np\n",
    "\n",
    "print(np.__version__)\n",
    "print(np.__config__)"
   ]
  },
  {
   "cell_type": "code",
   "execution_count": null,
   "metadata": {},
   "outputs": [],
   "source": [
    "import numpy as np\n",
    "\n",
    "\n",
    "arr = np.arange(10)\n",
    "\n",
    "arr_odd = arr[arr % 2 != 0]\n",
    "\n",
    "arr_even = arr[arr % 2 == 0]\n",
    "\n",
    "arr_update_1 = arr.copy()\n",
    "\n",
    "arr_update_1[arr_update_1 % 2 != 0] = 100\n",
    "\n",
    "print(arr_update_1)\n",
    "\n",
    "print(\"Cac phan tu trong arr:\", arr)\n",
    "\n",
    "print(\"Kieu du lieu cua arr:\", arr.dtype)\n",
    "\n",
    "\n",
    "print(\"Kich thuoc cua arr:\", arr.shape)\n",
    "\n",
    "print(\"Arr_odd:\", arr_odd)\n",
    "\n",
    "print(\"Arr_even:\", arr_even)"
   ]
  },
  {
   "cell_type": "code",
   "execution_count": 2,
   "metadata": {},
   "outputs": [
    {
     "name": "stdout",
     "output_type": "stream",
     "text": [
      "[2 2]\n",
      "[1 3 3 4 3 4 5 6]\n",
      "[ 5  6  9 10  6]\n"
     ]
    }
   ],
   "source": [
    "import numpy as np\n",
    "\n",
    "arr_a = np.array([1,2,3,2,3,4,3,4,5,6])\n",
    "\n",
    "arr_b = np.array([17,2,10,2,71,27,9,27,9,55])\n",
    "\n",
    "arr_e = np.array([5, 6, 0, 9, 10, 3, 24, 17, 6, 36, 86])\n",
    "\n",
    "arr_c = arr_a[arr_a == arr_b]\n",
    "\n",
    "arr_d = arr_a[arr_a != arr_b]\n",
    "\n",
    "arr_f = arr_e[arr_e <= 10]\n",
    "\n",
    "arr_f = arr_f[arr_f >= 5]\n",
    "\n",
    "print(arr_c)\n",
    "\n",
    "print(arr_d)\n",
    "\n",
    "print(arr_f)"
   ]
  },
  {
   "cell_type": "code",
   "execution_count": 3,
   "metadata": {},
   "outputs": [
    {
     "name": "stdout",
     "output_type": "stream",
     "text": [
      "[0. 0. 0. 0. 0. 1. 0. 0. 0. 0.]\n",
      "[10 11 12 13 14 15 16 17 18 19 20 21 22 24]\n",
      "[24 22 21 20 19 18 17 16 15 14 13 12 11 10]\n",
      "[1 2 8 2 1 3 5]\n",
      "[ 1  2  8  2  1  3  5 10 20]\n",
      "[  1   2   8   2   1 100   3   5  10  20]\n",
      "[  2   1 100   3   5  10  20]\n"
     ]
    }
   ],
   "source": [
    "import numpy as np\n",
    "\n",
    "arr_zeros = np.zeros(10)\n",
    "\n",
    "arr_zeros = np.insert(arr_zeros, 5, 1)\n",
    "\n",
    "arr_zeros = np.delete(arr_zeros, 10)\n",
    "\n",
    "arr_h = np.linspace(10, 24, 14, dtype = int)\n",
    "\n",
    "arr_h_reversed_sort = np.sort(arr_h)[::-1]\n",
    "\n",
    "arr_k = np.array([1, 2, 0, 8, 2, 0, 1, 3, 0, 5, 0])\n",
    "\n",
    "arr_1 = arr_k[arr_k != 0]\n",
    "\n",
    "arr_1_append = np.append(arr_1, (10, 20))\n",
    "\n",
    "arr_1_append_insert = np.insert(arr_1_append, 5, 100)\n",
    "\n",
    "arr_1_append_insert_delete = np.delete(arr_1_append_insert, (0,1,2))\n",
    "\n",
    "print(arr_zeros)\n",
    "\n",
    "print(arr_h)\n",
    "\n",
    "print(arr_h_reversed_sort)\n",
    "\n",
    "print(arr_1)\n",
    "\n",
    "print(arr_1_append)\n",
    "\n",
    "print(arr_1_append_insert)\n",
    "\n",
    "print(arr_1_append_insert_delete)"
   ]
  }
 ],
 "metadata": {
  "kernelspec": {
   "display_name": "Python 3",
   "language": "python",
   "name": "python3"
  },
  "language_info": {
   "codemirror_mode": {
    "name": "ipython",
    "version": 3
   },
   "file_extension": ".py",
   "mimetype": "text/x-python",
   "name": "python",
   "nbconvert_exporter": "python",
   "pygments_lexer": "ipython3",
   "version": "3.11.7"
  }
 },
 "nbformat": 4,
 "nbformat_minor": 2
}
